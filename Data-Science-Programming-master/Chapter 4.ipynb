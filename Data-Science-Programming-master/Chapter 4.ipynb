{
 "cells": [
  {
   "cell_type": "code",
   "execution_count": 11,
   "metadata": {},
   "outputs": [],
   "source": [
    "import numpy as np\n",
    "x = 2 * np.random.rand(100,1)\n",
    "y = 4 + 3*x + np.random.randn(100,1)"
   ]
  },
  {
   "cell_type": "code",
   "execution_count": 12,
   "metadata": {
    "scrolled": true
   },
   "outputs": [
    {
     "name": "stdout",
     "output_type": "stream",
     "text": [
      "<class 'numpy.ndarray'> 2 (100, 1) <class 'numpy.ndarray'> 2 (100, 1)\n"
     ]
    }
   ],
   "source": [
    "print(type(x), x.ndim, x.shape, type(y),y.ndim, y.shape) "
   ]
  },
  {
   "cell_type": "code",
   "execution_count": 13,
   "metadata": {},
   "outputs": [
    {
     "name": "stdout",
     "output_type": "stream",
     "text": [
      "[[0.99462087]\n",
      " [1.62866325]\n",
      " [1.61745381]]\n",
      "[[5.942007  ]\n",
      " [7.78412314]\n",
      " [9.94832147]]\n"
     ]
    }
   ],
   "source": [
    "print(x[:3])\n",
    "print(y[:3])"
   ]
  },
  {
   "cell_type": "code",
   "execution_count": 14,
   "metadata": {},
   "outputs": [
    {
     "data": {
      "image/png": "[encoded data removed]",
      "text/plain": [
       "<Figure size 432x288 with 1 Axes>"
      ]
     },
     "metadata": {
      "needs_background": "light"
     },
     "output_type": "display_data"
    }
   ],
   "source": [
    "import matplotlib\n",
    "import matplotlib.pyplot as plt\n",
    "plt.scatter(x,y)\n",
    "plt.show()"
   ]
  },
  {
   "cell_type": "code",
   "execution_count": 15,
   "metadata": {},
   "outputs": [],
   "source": [
    "X_b = np.c_[np.ones((100,1)), x]"
   ]
  },
  {
   "cell_type": "code",
   "execution_count": 16,
   "metadata": {},
   "outputs": [
    {
     "name": "stdout",
     "output_type": "stream",
     "text": [
      "<class 'numpy.ndarray'> (100, 2) 2\n"
     ]
    }
   ],
   "source": [
    "print(type(X_b), X_b.shape, X_b.ndim)"
   ]
  },
  {
   "cell_type": "code",
   "execution_count": 17,
   "metadata": {},
   "outputs": [
    {
     "name": "stdout",
     "output_type": "stream",
     "text": [
      "[[1.         0.99462087]\n",
      " [1.         1.62866325]\n",
      " [1.         1.61745381]]\n"
     ]
    }
   ],
   "source": [
    "print(X_b[:3])"
   ]
  },
  {
   "cell_type": "code",
   "execution_count": 18,
   "metadata": {},
   "outputs": [],
   "source": [
    "theta_best = np.linalg.inv(X_b.T.dot(X_b)).dot(X_b.T).dot(y)"
   ]
  },
  {
   "cell_type": "code",
   "execution_count": 19,
   "metadata": {},
   "outputs": [
    {
     "name": "stdout",
     "output_type": "stream",
     "text": [
      "<class 'numpy.ndarray'>\n"
     ]
    }
   ],
   "source": [
    "print(type(theta_best))"
   ]
  },
  {
   "cell_type": "code",
   "execution_count": 20,
   "metadata": {},
   "outputs": [
    {
     "name": "stdout",
     "output_type": "stream",
     "text": [
      "[[4.09990808]\n",
      " [2.84198819]]\n"
     ]
    }
   ],
   "source": [
    "print(theta_best)"
   ]
  },
  {
   "cell_type": "code",
   "execution_count": 21,
   "metadata": {},
   "outputs": [
    {
     "name": "stdout",
     "output_type": "stream",
     "text": [
      "[[1. 0.]\n",
      " [1. 2.]]\n"
     ]
    }
   ],
   "source": [
    "X_new = np.array([[0],[2]])\n",
    "X_new_b = np.c_[np.ones((2,1)), X_new]\n",
    "print(X_new_b)"
   ]
  },
  {
   "cell_type": "code",
   "execution_count": 22,
   "metadata": {},
   "outputs": [
    {
     "name": "stdout",
     "output_type": "stream",
     "text": [
      "[[4.09990808]\n",
      " [9.78388447]]\n"
     ]
    }
   ],
   "source": [
    "y_predict = X_new_b.dot(theta_best)\n",
    "print(y_predict)"
   ]
  },
  {
   "cell_type": "code",
   "execution_count": 23,
   "metadata": {},
   "outputs": [
    {
     "data": {
      "image/png": "[encoded data removed]",
      "text/plain": [
       "<Figure size 432x288 with 1 Axes>"
      ]
     },
     "metadata": {
      "needs_background": "light"
     },
     "output_type": "display_data"
    }
   ],
   "source": [
    "plt.plot(X_new,y_predict, \"r-\")\n",
    "plt.plot(x,y,\"b.\")\n",
    "plt.show()"
   ]
  },
  {
   "cell_type": "code",
   "execution_count": 24,
   "metadata": {},
   "outputs": [
    {
     "data": {
      "text/plain": [
       "LinearRegression(copy_X=True, fit_intercept=True, n_jobs=None,\n",
       "         normalize=False)"
      ]
     },
     "execution_count": 24,
     "metadata": {},
     "output_type": "execute_result"
    }
   ],
   "source": [
    "from sklearn.linear_model import LinearRegression\n",
    "lin_reg = LinearRegression()\n",
    "lin_reg.fit(X_b, y)"
   ]
  },
  {
   "cell_type": "code",
   "execution_count": 25,
   "metadata": {},
   "outputs": [
    {
     "name": "stdout",
     "output_type": "stream",
     "text": [
      "[4.09990808] [[0.         2.84198819]]\n"
     ]
    }
   ],
   "source": [
    "print(lin_reg.intercept_, lin_reg.coef_)"
   ]
  },
  {
   "cell_type": "code",
   "execution_count": 26,
   "metadata": {},
   "outputs": [],
   "source": [
    "from sklearn.metrics import mean_squared_error"
   ]
  },
  {
   "cell_type": "code",
   "execution_count": 27,
   "metadata": {},
   "outputs": [
    {
     "name": "stdout",
     "output_type": "stream",
     "text": [
      "[[-1.91474721]\n",
      " [ 0.63439058]]\n",
      "[[1.38527251]\n",
      " [4.2706839 ]] 3.4246154733961287\n",
      "[[1.89245283]\n",
      " [4.59351423]] 2.34782506413461\n",
      "[[2.06600296]\n",
      " [4.53541453]] 2.194636007438261\n",
      "[[2.19366553]\n",
      " [4.43860602]] 2.070294094932791\n",
      "[[2.30947406]\n",
      " [4.34271849]] 1.9606828474700901\n",
      "[[2.41779713]\n",
      " [4.25205257]] 1.86392824074657\n",
      "[[2.51951397]\n",
      " [4.16680148]] 1.7785205181940529\n",
      "[[2.61507388]\n",
      " [4.08669726]] 1.70312895137477\n",
      "[[2.70485496]\n",
      " [4.01143565]] 1.6365788993932633\n",
      "[[2.7892073 ]\n",
      " [3.94072465]] 1.5778334772468414\n",
      "[[2.86845925]\n",
      " [3.8742892 ]] 1.525977400197881\n",
      "[[2.9429192 ]\n",
      " [3.81187079]] 1.480202723148061\n",
      "[[3.0128769 ]\n",
      " [3.75322653]] 1.4397962524264725\n",
      "[[3.07860459]\n",
      " [3.69812821]] 1.4041284338551319\n",
      "[[3.14035803]\n",
      " [3.64636143]] 1.3726435439620317\n",
      "[[3.19837754]\n",
      " [3.59772474]] 1.344851031515611\n",
      "[[3.25288887]\n",
      " [3.55202889]] 1.3203178744772013\n",
      "[[3.30410416]\n",
      " [3.50909605]] 1.298661833288713\n",
      "[[3.3522227 ]\n",
      " [3.46875916]] 1.279545495378217\n",
      "[[3.39743173]\n",
      " [3.43086125]] 1.262671018093674\n",
      "[[3.43990719]\n",
      " [3.39525485]] 1.2477754881569383\n",
      "[[3.47981436]\n",
      " [3.36180141]] 1.234626825335872\n",
      "[[3.51730852]\n",
      " [3.33037073]] 1.2230201665116232\n",
      "[[3.55253559]\n",
      " [3.30084053]] 1.2127746738029126\n",
      "[[3.58563265]\n",
      " [3.27309587]] 1.2037307170162332\n",
      "[[3.61672848]\n",
      " [3.24702881]] 1.1957473865230321\n",
      "[[3.64594409]\n",
      " [3.2225379 ]] 1.188700297813193\n",
      "[[3.67339316]\n",
      " [3.19952784]] 1.1824796535186055\n",
      "[[3.69918253]\n",
      " [3.17790909]] 1.1769885327121141\n",
      "[[3.72341252]\n",
      " [3.15759752]] 1.172141380828231\n",
      "[[3.74617745]\n",
      " [3.13851411]] 1.1678626766777664\n",
      "[[3.76756589]\n",
      " [3.12058457]] 1.164085755787775\n",
      "[[3.78766106]\n",
      " [3.10373915]] 1.1607517717338163\n",
      "[[3.80654118]\n",
      " [3.0879123 ]] 1.1578087792815501\n",
      "[[3.8242797 ]\n",
      " [3.07304242]] 1.1552109250525209\n",
      "[[3.84094566]\n",
      " [3.05907165]] 1.152917733104274\n",
      "[[3.85660391]\n",
      " [3.04594563]] 1.1508934742937758\n",
      "[[3.87131537]\n",
      " [3.03361328]] 1.1491066095984706\n",
      "[[3.8851373]\n",
      " [3.0220266]] 1.1475292987216357\n",
      "[[3.89812349]\n",
      " [3.01114052]] 1.146136966325837\n",
      "[[3.91032446]\n",
      " [3.00091267]] 1.1449079191361797\n",
      "[[3.92178769]\n",
      " [2.99130325]] 1.1438230079476135\n",
      "[[3.9325578 ]\n",
      " [2.98227487]] 1.1428653292701956\n",
      "[[3.94267669]\n",
      " [2.97379239]] 1.1420199619637774\n",
      "[[3.95218373]\n",
      " [2.96582281]] 1.1412737347587525\n",
      "[[3.96111593]\n",
      " [2.95833511]] 1.1406150210407144\n",
      "[[3.96950805]\n",
      " [2.95130016]] 1.1400335577016538\n",
      "[[3.97739273]\n",
      " [2.94469057]] 1.1395202852353106\n",
      "[[3.98480066]\n",
      " [2.93848064]] 1.1390672065852758\n",
      "[[3.99176066]\n",
      " [2.93264619]] 1.1386672625466259\n"
     ]
    }
   ],
   "source": [
    "lrate = 0.2\n",
    "iter = 50\n",
    "m = 100\n",
    "theta = np.random.randn(2,1)\n",
    "print(theta)\n",
    "for i in range(iter):\n",
    "    grads = (2/m)*X_b.T.dot(X_b.dot(theta)-y)\n",
    "    theta = theta - lrate*grads\n",
    "    mse = mean_squared_error(X_b.dot(theta),y)\n",
    "    print(theta, mse)"
   ]
  },
  {
   "cell_type": "code",
   "execution_count": 28,
   "metadata": {},
   "outputs": [
    {
     "name": "stdout",
     "output_type": "stream",
     "text": [
      "[[3.99176066]\n",
      " [2.93264619]]\n"
     ]
    }
   ],
   "source": [
    "print(theta)"
   ]
  },
  {
   "cell_type": "markdown",
   "metadata": {
    "collapsed": true
   },
   "source": [
    "Try stochastic gradient descent and batch gradient descent code from the book now!"
   ]
  },
  {
   "cell_type": "markdown",
   "metadata": {
    "collapsed": true
   },
   "source": [
    "Next try to change the data generating function into a quadratic and use polynomial features and poly regression "
   ]
  },
  {
   "cell_type": "code",
   "execution_count": null,
   "metadata": {
    "collapsed": true
   },
   "outputs": [],
   "source": []
  },
  {
   "cell_type": "code",
   "execution_count": null,
   "metadata": {
    "collapsed": true
   },
   "outputs": [],
   "source": []
  }
 ],
 "metadata": {
  "kernelspec": {
   "display_name": "Python 3",
   "language": "python",
   "name": "python3"
  },
  "language_info": {
   "codemirror_mode": {
    "name": "ipython",
    "version": 3
   },
   "file_extension": ".py",
   "mimetype": "text/x-python",
   "name": "python",
   "nbconvert_exporter": "python",
   "pygments_lexer": "ipython3",
   "version": "3.6.7"
  }
 },
 "nbformat": 4,
 "nbformat_minor": 2
}
