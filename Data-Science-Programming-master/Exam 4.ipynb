{
 "cells": [
  {
   "cell_type": "code",
   "execution_count": 13,
   "metadata": {},
   "outputs": [
    {
     "name": "stdout",
     "output_type": "stream",
     "text": [
      "[['' '' '' '' '' '' '' '' '' '']\n",
      " ['' '' '' '' '' '' '' '' '' '']\n",
      " ['' '' '' '' '' '' '' '' '' '']\n",
      " ['' '' '' '' '' '' '' '' '' '']\n",
      " ['' '' '' '' '' '' '' '' '' '']]\n",
      "[1.99416198e+174 2.00672224e+174 3.86585419e+233 2.46343043e-154\n",
      " 1.48731395e+020]\n"
     ]
    }
   ],
   "source": [
    "# genetic algorithm for learning baskets\n",
    "# input N (number of shows)\n",
    "N = 10\n",
    "# input M (number of chromosomes in the population)\n",
    "M = 100\n",
    "\n",
    "# create two dimensional array of chromosomes\n",
    "# example chromosome is \"D\",\"R\",\"D\",\"I\" meaning first show is D, second is R and so on\n",
    "# two dimensional because rows are different chromosomes, columns are indices for shows\n",
    "# example of what this looks like with three chromosomes in a universe of four shows\n",
    "# D, R, I, D\n",
    "# R, D, D, I\n",
    "# I, I, D, R\n",
    "\n",
    "import numpy as np\n",
    "showbaskets = np.empty([M,N],dtype=str)\n",
    "\n",
    "#fitness array below should store the fitness value of each chromosome\n",
    "fitness=np.empty(M,dtype=float)\n",
    "print(showbaskets[:5])\n",
    "print(fitness[:5])"
   ]
  },
  {
   "cell_type": "code",
   "execution_count": 14,
   "metadata": {
    "scrolled": true
   },
   "outputs": [
    {
     "name": "stdout",
     "output_type": "stream",
     "text": [
      "[['D' 'R' 'D' 'D' 'R' 'R' 'D' 'D' 'R' 'D']\n",
      " ['R' 'R' 'R' 'R' 'R' 'R' 'R' 'R' 'D' 'R']\n",
      " ['D' 'D' 'R' 'R' 'D' 'D' 'D' 'D' 'R' 'D']\n",
      " ['R' 'D' 'D' 'D' 'D' 'R' 'R' 'D' 'D' 'R']\n",
      " ['D' 'D' 'D' 'D' 'D' 'D' 'D' 'D' 'D' 'D']]\n",
      "[0.99347796 0.58013783 0.27708855 0.74975998 0.54110179]\n"
     ]
    }
   ],
   "source": [
    "import random\n",
    "#INITIALIZATION OF POPULATION AND FITNESS\n",
    "\n",
    "#randomly assign each show as either \"D\",\"R\" or \"I\" for all chromosomes\n",
    "\n",
    "aff=[\"D\",\"R\"]\n",
    "\n",
    "for chrome in range(M):\n",
    "    for show in range(N):\n",
    "        showbaskets[chrome,show] = aff[random.randint(0,1)]\n",
    "\n",
    "\n",
    "def calc_fitness(showbaskets,M,N,i):\n",
    "    #calculate fitness of i-th chromosome based on how good the basket assignment is\n",
    "    #i am putting in random values for now\n",
    "    #this is the function that assigns userIDs to D/R/I\n",
    "    #and then compute all the aggregates and return alpha+beta, quite straightfoward\n",
    "    fit = random.uniform(0,1)\n",
    "    return fit\n",
    "\n",
    "\n",
    "for i in range(M):\n",
    "    fitness[i]=calc_fitness(showbaskets,M,N,i)\n",
    "        \n",
    "print(showbaskets[:5])\n",
    "print(fitness[:5])"
   ]
  },
  {
   "cell_type": "code",
   "execution_count": 15,
   "metadata": {},
   "outputs": [],
   "source": [
    "def random_fitness_weighted_index(fitness):\n",
    "    total=sum(fitness)\n",
    "    x = random.uniform(0,total)\n",
    "    done = current_sum = i = 0\n",
    "    \n",
    "    while (done != 1):\n",
    "        current_sum = current_sum + fitness[i]\n",
    "        if (current_sum >= x):\n",
    "            done = 1\n",
    "        else:\n",
    "            i=i+1\n",
    "    return i"
   ]
  },
  {
   "cell_type": "code",
   "execution_count": 16,
   "metadata": {},
   "outputs": [],
   "source": [
    "def crossover_1(showbaskets,M,N,K,fitness):\n",
    "    \n",
    "    #pick two rows for crossover proportional to their fitness\n",
    "    row1 = random_fitness_weighted_index(fitness)\n",
    "    row2 = random_fitness_weighted_index(fitness)\n",
    "    while (row2 == row1):\n",
    "        row2 = random_fitness_weighted_index(fitness)\n",
    "        \n",
    "    \n",
    "    #pick K random points 1 <= K < N and crossover the material\n",
    "    for i in range(K):\n",
    "        pos=random.randint(0,N-1)\n",
    "        temp = showbaskets[row1,pos]\n",
    "        showbaskets[row1,pos] = showbaskets[row2,pos]\n",
    "        showbaskets[row2,pos] = temp\n",
    "        \n",
    "    # update fitness values of the chromosomes after crossover operation is done\n",
    "    fitness[row1]=calc_fitness(showbaskets,M,N,row1)\n",
    "    fitness[row2]=calc_fitness(showbaskets,M,N,row2)"
   ]
  },
  {
   "cell_type": "code",
   "execution_count": 17,
   "metadata": {},
   "outputs": [],
   "source": [
    "def mutation(showbaskets,M,N,K,fitness):\n",
    "    #pick K random points in ONE chromosome and randomize them\n",
    "    row=random.randint(0,M-1)\n",
    "    aff[random.randint(0,1)]\n",
    "    for i in range(K):\n",
    "        pos=random.randint(0,N-1)\n",
    "        showbaskets[row,pos] = aff[random.randint(0,1)]\n",
    "        \n",
    "    # update fitness values of the chromosome after mutation operation is done\n",
    "    fitness[row]=calc_fitness(showbaskets,M,N,row)"
   ]
  },
  {
   "cell_type": "code",
   "execution_count": 18,
   "metadata": {},
   "outputs": [
    {
     "name": "stdout",
     "output_type": "stream",
     "text": [
      "[['R' 'D' 'D' 'D' 'R' 'D' 'R' 'D' 'R' 'D']\n",
      " ['R' 'D' 'R' 'R' 'D' 'D' 'R' 'R' 'D' 'R']\n",
      " ['D' 'R' 'D' 'D' 'R' 'R' 'D' 'R' 'R' 'D']\n",
      " ['D' 'D' 'D' 'D' 'D' 'D' 'D' 'D' 'R' 'D']\n",
      " ['D' 'R' 'D' 'D' 'R' 'D' 'R' 'R' 'R' 'D']]\n",
      "[0.10116625 0.03560801 0.04185315 0.57983882 0.00146201]\n"
     ]
    }
   ],
   "source": [
    "ITER = 5000\n",
    "#run the genetic algorithm for 1000 iterations\n",
    "\n",
    "for i in range(ITER):\n",
    "    crossover_1(showbaskets,M,N,2,fitness)\n",
    "    if (random.uniform(0,1) > 0.99):\n",
    "        mutation(showbaskets,M,N,2,fitness)\n",
    "print(showbaskets[:5])\n",
    "print(fitness[:5])"
   ]
  },
  {
   "cell_type": "code",
   "execution_count": 19,
   "metadata": {},
   "outputs": [
    {
     "name": "stdout",
     "output_type": "stream",
     "text": [
      "D-Basket  1  \n",
      "Show  1\n",
      "Show  4\n",
      "Show  5\n",
      "Show  6\n",
      "Show  7\n",
      "Show  8\n",
      "Show  9\n",
      "R-Basket  1  \n",
      "Show  0\n",
      "Show  2\n",
      "Show  3\n",
      "\n",
      "D-Basket  2  \n",
      "Show  1\n",
      "Show  2\n",
      "Show  4\n",
      "Show  5\n",
      "Show  7\n",
      "Show  8\n",
      "Show  9\n",
      "R-Basket  2  \n",
      "Show  0\n",
      "Show  3\n",
      "Show  6\n",
      "\n",
      "D-Basket  3  \n",
      "Show  2\n",
      "Show  3\n",
      "Show  4\n",
      "Show  5\n",
      "Show  6\n",
      "Show  7\n",
      "Show  8\n",
      "Show  9\n",
      "R-Basket  3  \n",
      "Show  0\n",
      "Show  1\n",
      "\n"
     ]
    }
   ],
   "source": [
    "# NOW THE FUN PART. SELECT THE ROWS CORRESPONDING TO HIGHEST FITNESS\n",
    "# Pick the top-k chromosomes, select the shows for each and output\n",
    "\n",
    "sorted_indices = np.argsort(fitness)\n",
    "# print top-k values\n",
    "k=3\n",
    "for i in range(k):\n",
    "    print(\"D-Basket \",i+1,\" \")\n",
    "    for j in range(N):\n",
    "         if showbaskets[sorted_indices[i],j]==\"D\":\n",
    "                print(\"Show \",j)\n",
    "    print(\"R-Basket \",i+1,\" \")\n",
    "    for j in range(N):\n",
    "         if showbaskets[sorted_indices[i],j]==\"R\":\n",
    "                print(\"Show \",j) \n",
    "    print()"
   ]
  },
  {
   "cell_type": "code",
   "execution_count": null,
   "metadata": {},
   "outputs": [],
   "source": []
  }
 ],
 "metadata": {
  "kernelspec": {
   "display_name": "Python 3",
   "language": "python",
   "name": "python3"
  },
  "language_info": {
   "codemirror_mode": {
    "name": "ipython",
    "version": 3
   },
   "file_extension": ".py",
   "mimetype": "text/x-python",
   "name": "python",
   "nbconvert_exporter": "python",
   "pygments_lexer": "ipython3",
   "version": "3.6.7"
  }
 },
 "nbformat": 4,
 "nbformat_minor": 2
}
