{
 "cells": [
  {
   "cell_type": "markdown",
   "metadata": {},
   "source": [
    "Assignment 5:\n",
    "\n",
    "The code below runs a genetic algorithm that attempts to learn which basket of TV shows is correlated with Democrats and which basket of TV shows is correlated with Republican viewers. All the real data is left out, which is why the fitness function is defined to generate a random number. You can leave the fitness function as it is for now since you do not have access to the data as well.\n",
    "\n",
    "Answer the following questions by making changes to the code below and add comments where necessary. You can submit your code with comments as a jupyter notebook file.\n",
    "\n",
    "1. The function crossover_1 implements a crossover operator that crosses over genes between two chromosomes. Right now it is possible (accidentally) that this operator crosses over the \"same gene\" twice in the code, thereby negating the value of the crossover if that happens. Modify the function crossover_1 so that does not happen.\n",
    "\n",
    "2. Create a new crossover function called crossover_2, that implements crossover as follows: If we have two chromosomes\n",
    "-D, R, I, D, R and \n",
    "-R, R, D, D, I\n",
    "the new crossover operator should take a position (say \"3\") and crossover ALL information between the two chromosomes before or equal to that position. \n",
    "So in the above example, if i picked the number \"3\" the first chromosome's \"D,R,I\" should move to the start of the second chromosome. And the second chromosome's \"R, R, D\" should move to the start of the first chromosome.\n",
    "\n",
    "3. Modify the code for crossover_2 only so that mutation happens inside the crossover functions instead of happening in the code outside. That is, as new children are created by the crossover operation, with some (low) probability they should have mutation applied to them.\n"
   ]
  },
  {
   "cell_type": "code",
   "execution_count": 26,
   "metadata": {},
   "outputs": [],
   "source": [
    "\n",
    "# genetic algorithm for learning baskets\n",
    "# input N (number of shows)\n",
    "N = 5\n",
    "# input M (number of chromosomes in the population)\n",
    "M = 10\n",
    "\n",
    "# create two dimensional array of chromosomes\n",
    "# example chromosome is \"D\",\"R\",\"D\",\"I\" meaning first show is D, second is R and so on\n",
    "# two dimensional because rows are different chromosomes, columns are indices for shows\n",
    "# example of what this looks like with three chromosomes in a universe of four shows\n",
    "# D, R, I, D\n",
    "# R, D, D, I\n",
    "# I, I, D, R\n",
    "\n",
    "import numpy as np\n",
    "showbaskets = np.empty([M,N],dtype=str)\n",
    "\n",
    "#fitness array below should store the fitness value of each chromosome\n",
    "fitness=np.empty(M,dtype=float)\n"
   ]
  },
  {
   "cell_type": "code",
   "execution_count": 27,
   "metadata": {},
   "outputs": [],
   "source": [
    "import random"
   ]
  },
  {
   "cell_type": "code",
   "execution_count": 28,
   "metadata": {},
   "outputs": [
    {
     "name": "stdout",
     "output_type": "stream",
     "text": [
      "[['D' 'R' 'I' 'R' 'D']\n",
      " ['D' 'R' 'D' 'I' 'D']\n",
      " ['R' 'R' 'D' 'R' 'R']\n",
      " ['R' 'R' 'I' 'D' 'D']\n",
      " ['I' 'I' 'R' 'I' 'R']]\n",
      "[0.95347035 0.02947057 0.24109096 0.41800598 0.63417511]\n"
     ]
    }
   ],
   "source": [
    "#INITIALIZATION OF POPULATION AND FITNESS\n",
    "\n",
    "#randomly assign each show as either \"D\",\"R\" or \"I\" for all chromosomes\n",
    "\n",
    "aff=[\"D\",\"R\",\"I\"]\n",
    "\n",
    "for chrome in range(M):\n",
    "    for show in range(N):\n",
    "        showbaskets[chrome,show] = aff[random.randint(0,2)]\n",
    "\n",
    "\n",
    "def calc_fitness(showbaskets,M,N,i):\n",
    "    #calculate fitness of i-th chromosome based on how good the basket assignment is\n",
    "    #i am putting in random values for now\n",
    "    #this is the function that assigns userIDs to D/R/I\n",
    "    #and then compute all the aggregates and return alpha+beta, quite straightfoward\n",
    "    fit = random.uniform(0,1)\n",
    "    return fit\n",
    "\n",
    "\n",
    "for i in range(M):\n",
    "    fitness[i]=calc_fitness(showbaskets,M,N,i)\n",
    "        \n",
    "print(showbaskets[:5])\n",
    "print(fitness[:5])\n",
    "\n",
    "\n"
   ]
  },
  {
   "cell_type": "code",
   "execution_count": 29,
   "metadata": {},
   "outputs": [],
   "source": [
    "def random_fitness_weighted_index(fitness):\n",
    "    total=sum(fitness)\n",
    "    x = random.uniform(0,total)\n",
    "    done = current_sum = i = 0\n",
    "    \n",
    "    while (done != 1):\n",
    "        current_sum = current_sum + fitness[i]\n",
    "        if (current_sum >= x):\n",
    "            done = 1\n",
    "        else:\n",
    "            i=i+1\n",
    "    return i\n"
   ]
  },
  {
   "cell_type": "code",
   "execution_count": 30,
   "metadata": {},
   "outputs": [],
   "source": [
    "def crossover_1(showbaskets,M,N,K,fitness):\n",
    "    posset =set()\n",
    "    #pick two rows for crossover proportional to their fitness\n",
    "    row1 = random_fitness_weighted_index(fitness)\n",
    "    row2 = random_fitness_weighted_index(fitness)\n",
    "    while (row2 == row1):\n",
    "        row2 = random_fitness_weighted_index(fitness)\n",
    "    #pick K random points 1 <= K < N and crossover the material\n",
    "    for i in range(K):\n",
    "        pos=random.randint(0,N-1)\n",
    "        if(pos not in posset):    \n",
    "            posset.add(pos)\n",
    "            temp = showbaskets[row1,pos]\n",
    "            showbaskets[row1,pos] = showbaskets[row2,pos]\n",
    "            showbaskets[row2,pos] = temp\n",
    "        \n",
    "    # update fitness values of the chromosomes after crossover operation is done\n",
    "    fitness[row1]=calc_fitness(showbaskets,M,N,row1)\n",
    "    fitness[row2]=calc_fitness(showbaskets,M,N,row2)"
   ]
  },
  {
   "cell_type": "code",
   "execution_count": 31,
   "metadata": {},
   "outputs": [],
   "source": [
    "def crossover_2(showbaskets,M,N,K,fitness):\n",
    "    #pick two rows for crossover proportional to their fitness\n",
    "    row1 = random_fitness_weighted_index(fitness)\n",
    "    row2 = random_fitness_weighted_index(fitness)\n",
    "    while (row2 == row1):\n",
    "        row2 = random_fitness_weighted_index(fitness)\n",
    "    #pick K random points 1 <= K < N and crossover the material\n",
    "    pos= random.randint(0,N-1)\n",
    "    i=0\n",
    "    while(i<=pos):\n",
    "        temp = showbaskets[row1,i]\n",
    "        showbaskets[row1,i] = showbaskets[row2,i]\n",
    "        showbaskets[row2,i] = temp\n",
    "        i+=1\n",
    "    # update fitness values of the chromosomes after crossover operation is done\n",
    "    fitness[row1]=calc_fitness(showbaskets,M,N,row1)\n",
    "    fitness[row2]=calc_fitness(showbaskets,M,N,row2)\n",
    "    prob_row={}\n",
    "    prob_row[row1]= fitness[row1] / (sum(fitness))\n",
    "    prob_row[row2]= fitness[row2] / (sum(fitness))\n",
    "    for rowkey in prob_row.keys():\n",
    "        # We are assuming that mutation should be applied if the probability of the fitness function \n",
    "        #of that chromosome is less than 0.3\n",
    "        if (random.uniform(0,1) > 0.9):\n",
    "            for j in range(K):\n",
    "                pos=random.randint(0,N-1)\n",
    "                showbaskets[rowkey,pos] = aff[random.randint(0,2)]\n",
    "                # update fitness values of the chromosome after mutation operation is done\n",
    "                fitness[rowkey]=calc_fitness(showbaskets,M,N,rowkey)"
   ]
  },
  {
   "cell_type": "code",
   "execution_count": 32,
   "metadata": {},
   "outputs": [],
   "source": [
    "def mutation(showbaskets,M,N,K,fitness):\n",
    "    #pick K random points in ONE chromosome and randomize them\n",
    "    row=random.randint(0,M-1)\n",
    "    aff[random.randint(0,2)]\n",
    "    for i in range(K):\n",
    "        pos=random.randint(0,N-1)\n",
    "        showbaskets[row,pos] = aff[random.randint(0,2)]\n",
    "        \n",
    "    # update fitness values of the chromosome after mutation operation is done\n",
    "    fitness[row]=calc_fitness(showbaskets,M,N,row)"
   ]
  },
  {
   "cell_type": "code",
   "execution_count": 33,
   "metadata": {},
   "outputs": [
    {
     "name": "stdout",
     "output_type": "stream",
     "text": [
      "[['D' 'R' 'R' 'R' 'D']\n",
      " ['I' 'D' 'D' 'D' 'D']\n",
      " ['D' 'I' 'I' 'I' 'D']\n",
      " ['R' 'D' 'R' 'I' 'D']\n",
      " ['R' 'R' 'I' 'D' 'R']]\n",
      "[0.19467655 0.12016383 0.32839752 0.35235584 0.01091881]\n"
     ]
    }
   ],
   "source": [
    "ITER = 10000\n",
    "#run the genetic algorithm for 1000 iterations\n",
    "\n",
    "for i in range(ITER):\n",
    "    crossover_1(showbaskets,M,N,2,fitness)\n",
    "    if (random.uniform(0,1) > 0.9):\n",
    "        mutation(showbaskets,M,N,2,fitness)\n",
    "print(showbaskets[:5])\n",
    "print(fitness[:5])"
   ]
  },
  {
   "cell_type": "code",
   "execution_count": 34,
   "metadata": {
    "scrolled": true
   },
   "outputs": [
    {
     "name": "stdout",
     "output_type": "stream",
     "text": [
      "[['D' 'D' 'D' 'R' 'I']\n",
      " ['D' 'R' 'D' 'D' 'I']\n",
      " ['R' 'I' 'D' 'R' 'I']\n",
      " ['D' 'R' 'D' 'R' 'R']\n",
      " ['D' 'I' 'R' 'D' 'R']]\n",
      "[2.09932465e-04 5.93594341e-02 3.86682278e-04 6.92300119e-01\n",
      " 3.73418181e-05]\n"
     ]
    }
   ],
   "source": [
    "ITER = 10000\n",
    "#run the genetic algorithm for 1000 iterations\n",
    "\n",
    "for i in range(ITER):\n",
    "    crossover_2(showbaskets,M,N,2,fitness)\n",
    "    #if (random.uniform(0,1) > 0.9):\n",
    "        #mutation(showbaskets,M,N,2,fitness)\n",
    "print(showbaskets[:5])\n",
    "print(fitness[:5])"
   ]
  },
  {
   "cell_type": "code",
   "execution_count": 35,
   "metadata": {},
   "outputs": [
    {
     "name": "stdout",
     "output_type": "stream",
     "text": [
      "D-Basket  1  \n",
      "Show  0\n",
      "Show  3\n",
      "R-Basket  1  \n",
      "Show  2\n",
      "Show  4\n",
      "\n",
      "D-Basket  2  \n",
      "Show  3\n",
      "Show  4\n",
      "R-Basket  2  \n",
      "\n",
      "D-Basket  3  \n",
      "Show  0\n",
      "Show  1\n",
      "Show  2\n",
      "R-Basket  3  \n",
      "Show  3\n",
      "\n"
     ]
    }
   ],
   "source": [
    "# NOW THE FUN PART. SELECT THE ROWS CORRESPONDING TO HIGHEST FITNESS\n",
    "# Pick the top-k chromosomes, select the shows for each and output\n",
    "\n",
    "sorted_indices = np.argsort(fitness)\n",
    "# print top-k values\n",
    "k=3\n",
    "for i in range(k):\n",
    "    print(\"D-Basket \",i+1,\" \")\n",
    "    for j in range(N):\n",
    "         if showbaskets[sorted_indices[i],j]==\"D\":\n",
    "                print(\"Show \",j)\n",
    "    print(\"R-Basket \",i+1,\" \")\n",
    "    for j in range(N):\n",
    "         if showbaskets[sorted_indices[i],j]==\"R\":\n",
    "                print(\"Show \",j) \n",
    "    print()\n",
    "   \n",
    "    "
   ]
  }
 ],
 "metadata": {
  "kernelspec": {
   "display_name": "Python 3",
   "language": "python",
   "name": "python3"
  },
  "language_info": {
   "codemirror_mode": {
    "name": "ipython",
    "version": 3
   },
   "file_extension": ".py",
   "mimetype": "text/x-python",
   "name": "python",
   "nbconvert_exporter": "python",
   "pygments_lexer": "ipython3",
   "version": "3.6.7"
  }
 },
 "nbformat": 4,
 "nbformat_minor": 2
}
