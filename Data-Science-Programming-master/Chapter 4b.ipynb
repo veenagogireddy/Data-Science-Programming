{
 "cells": [
  {
   "cell_type": "code",
   "execution_count": 31,
   "metadata": {},
   "outputs": [],
   "source": [
    "import numpy as np\n",
    "m = 50 # number of data points\n",
    "x = 6 * np.random.rand(m,1) - 3\n",
    "y = 10*(x**5)+55*(x**4)+59*(x**3)-4*(x**2) - 3*x + 2 + 50*np.random.randn(m,1)"
   ]
  },
  {
   "cell_type": "code",
   "execution_count": 32,
   "metadata": {},
   "outputs": [
    {
     "name": "stdout",
     "output_type": "stream",
     "text": [
      "<class 'numpy.ndarray'> 2 (50, 1) <class 'numpy.ndarray'> 2 (50, 1)\n",
      "[[ 2.60302027]\n",
      " [-1.11167493]\n",
      " [ 2.79818027]]\n",
      "[[4688.75265722]\n",
      " [ -32.24429268]\n",
      " [6295.77773794]]\n"
     ]
    }
   ],
   "source": [
    "print(type(x), x.ndim, x.shape, type(y),y.ndim, y.shape)\n",
    "print(x[:3])\n",
    "print(y[:3])"
   ]
  },
  {
   "cell_type": "code",
   "execution_count": 33,
   "metadata": {},
   "outputs": [
    {
     "data": {
      "image/png": "[encoded data removed]",
      "text/plain": [
       "<Figure size 432x288 with 1 Axes>"
      ]
     },
     "metadata": {
      "needs_background": "light"
     },
     "output_type": "display_data"
    }
   ],
   "source": [
    "import matplotlib\n",
    "import matplotlib.pyplot as plt\n",
    "plt.scatter(x,y)\n",
    "plt.show()"
   ]
  },
  {
   "cell_type": "code",
   "execution_count": 34,
   "metadata": {},
   "outputs": [
    {
     "name": "stdout",
     "output_type": "stream",
     "text": [
      "(40, 1) (40, 1) (10, 1) (10, 1)\n"
     ]
    }
   ],
   "source": [
    "from sklearn.model_selection import train_test_split\n",
    "x_train, x_test, y_train, y_test = train_test_split(x, y, test_size=0.2)\n",
    "print(x_train.shape, y_train.shape, x_test.shape, y_test.shape)"
   ]
  },
  {
   "cell_type": "code",
   "execution_count": 35,
   "metadata": {},
   "outputs": [],
   "source": [
    "# let's plot a linear regression and a polynomial regression on this, and \n",
    "# compare fits on the entire training data\n"
   ]
  },
  {
   "cell_type": "code",
   "execution_count": 36,
   "metadata": {},
   "outputs": [
    {
     "name": "stdout",
     "output_type": "stream",
     "text": [
      "[724.90609985] [[767.88170607]]\n"
     ]
    }
   ],
   "source": [
    "from sklearn.linear_model import LinearRegression\n",
    "lin_reg = LinearRegression()\n",
    "lin_reg.fit(x_train, y_train)\n",
    "print(lin_reg.intercept_, lin_reg.coef_)"
   ]
  },
  {
   "cell_type": "code",
   "execution_count": 37,
   "metadata": {},
   "outputs": [
    {
     "name": "stdout",
     "output_type": "stream",
     "text": [
      "Mean Squared Error on Test:  3760509.8899782463\n",
      "[5 2 3 9 4 8 0 6 1 7]\n",
      "[[-2.97069872]\n",
      " [-2.51783475]\n",
      " [-1.4274856 ]\n",
      " [-1.04538832]\n",
      " [ 0.56437783]\n",
      " [ 1.21255342]\n",
      " [ 2.08693044]\n",
      " [ 2.60302027]\n",
      " [ 2.73769888]\n",
      " [ 2.84573391]]\n",
      "[[-1556.23910472]\n",
      " [-1208.49314235]\n",
      " [ -371.23397524]\n",
      " [  -77.82846514]\n",
      " [ 1158.28150838]\n",
      " [ 1656.0036858 ]\n",
      " [ 2327.42180637]\n",
      " [ 2723.71774887]\n",
      " [ 2827.13498817]\n",
      " [ 2910.09310984]]\n"
     ]
    },
    {
     "data": {
      "image/png": "[encoded data removed]",
      "text/plain": [
       "<Figure size 432x288 with 1 Axes>"
      ]
     },
     "metadata": {
      "needs_background": "light"
     },
     "output_type": "display_data"
    }
   ],
   "source": [
    "#this block of code plots the predicted values as a red line\n",
    "#and the actual values as a scatter plot, along with the \n",
    "#mean squared error\n",
    "# re-use this as needed \n",
    "\n",
    "y_predict = lin_reg.predict(x_test)\n",
    "\n",
    "from sklearn.metrics import mean_squared_error\n",
    "mse = mean_squared_error(y_test,y_predict)\n",
    "print(\"Mean Squared Error on Test: \", mse)\n",
    "\n",
    "order = x_test[:,0].argsort()\n",
    "print(order)\n",
    "xs = x_test[order]\n",
    "print(xs)\n",
    "ys = y_predict[order]\n",
    "print(ys)\n",
    "plt.plot(xs,ys,\"r-\")\n",
    "plt.scatter(x_test, y_test, color='blue')\n",
    "plt.show()\n"
   ]
  },
  {
   "cell_type": "code",
   "execution_count": 42,
   "metadata": {},
   "outputs": [
    {
     "name": "stdout",
     "output_type": "stream",
     "text": [
      "[2.60302027] [  2.60302027   6.77571455  17.63732234  45.91030763 119.50546155\n",
      " 311.07513927 809.7348943 ]\n",
      "(50, 1) (50, 7)\n"
     ]
    }
   ],
   "source": [
    "# let's add polynomial features of degree num_degrees (modify this and play around\n",
    "# with this block of code and the next. what do you find?\n",
    "\n",
    "from sklearn.preprocessing import PolynomialFeatures\n",
    "num_degrees = 7\n",
    "poly_features = PolynomialFeatures(degree=num_degrees, include_bias=False)\n",
    "x_poly = poly_features.fit_transform(x)\n",
    "print(x[0], x_poly[0])\n",
    "print(x.shape, x_poly.shape)"
   ]
  },
  {
   "cell_type": "code",
   "execution_count": 43,
   "metadata": {},
   "outputs": [
    {
     "name": "stdout",
     "output_type": "stream",
     "text": [
      "[-43.43282581] [[56.60328184 21.98271886  9.14160746 52.8523769  19.34288345 -0.08204563\n",
      "  -0.4991052 ]]\n",
      "Mean Squared Error on Test:  2482.3612151522198\n"
     ]
    },
    {
     "data": {
      "image/png": "[encoded data removed]",
      "text/plain": [
       "<Figure size 432x288 with 1 Axes>"
      ]
     },
     "metadata": {
      "needs_background": "light"
     },
     "output_type": "display_data"
    }
   ],
   "source": [
    "\n",
    "x_train, x_test, y_train, y_test = train_test_split(x_poly, y, test_size=0.2)\n",
    "lin_reg = LinearRegression()\n",
    "lin_reg.fit(x_train, y_train)\n",
    "print(lin_reg.intercept_, lin_reg.coef_)\n",
    "y_predict = lin_reg.predict(x_test)\n",
    "mse = mean_squared_error(y_test,y_predict)\n",
    "print(\"Mean Squared Error on Test: \", mse)\n",
    "\n",
    "order = x_test[:,0].argsort()\n",
    "x_test = x_test[order]\n",
    "ys = y_predict[order]\n",
    "truey = y_test[order]\n",
    "xs = x_test[:,:-(num_degrees-1)]\n",
    "\n",
    "plt.plot(xs,ys,\"r-\")\n",
    "plt.scatter(xs, truey, color='blue')\n",
    "plt.show()"
   ]
  },
  {
   "cell_type": "code",
   "execution_count": 40,
   "metadata": {},
   "outputs": [],
   "source": [
    "# In class work. repeat the above analyses for different polynomials, different\n",
    "# train-test splits. work in groups of 2 and present in class"
   ]
  },
  {
   "cell_type": "code",
   "execution_count": 44,
   "metadata": {},
   "outputs": [
    {
     "name": "stdout",
     "output_type": "stream",
     "text": [
      "Mean Squared Error on Test:  2146.347873792941\n",
      "[-30.16077485] [-7.95868088e+00  1.48083306e+01  6.67745811e+01  5.31182804e+01\n",
      "  6.69430340e+00 -1.75203154e-02  3.00845065e-01]\n"
     ]
    },
    {
     "name": "stderr",
     "output_type": "stream",
     "text": [
      "C:\\Users\\udays\\AppData\\Local\\conda\\conda\\envs\\deeplearning\\lib\\site-packages\\sklearn\\linear_model\\coordinate_descent.py:492: ConvergenceWarning: Objective did not converge. You might want to increase the number of iterations. Fitting data with very small alpha may cause precision problems.\n",
      "  ConvergenceWarning)\n"
     ]
    },
    {
     "data": {
      "image/png": "[encoded data removed]",
      "text/plain": [
       "<Figure size 432x288 with 1 Axes>"
      ]
     },
     "metadata": {
      "needs_background": "light"
     },
     "output_type": "display_data"
    }
   ],
   "source": [
    "from sklearn.linear_model import Lasso\n",
    "lasso_reg = Lasso(alpha=0.1)\n",
    "lasso_reg.fit(x_train, y_train)\n",
    "y_predict = lasso_reg.predict(x_test)\n",
    "mse = mean_squared_error(truey,y_predict)\n",
    "print(\"Mean Squared Error on Test: \", mse)\n",
    "print(lasso_reg.intercept_, lasso_reg.coef_)\n",
    "\n",
    "plt.plot(xs,y_predict,\"r-\")\n",
    "plt.scatter(xs, truey, color='blue')\n",
    "plt.show()\n"
   ]
  },
  {
   "cell_type": "code",
   "execution_count": null,
   "metadata": {
    "collapsed": true
   },
   "outputs": [],
   "source": [
    "# CLASS WORK. Play around with this code to see if you can construct scenarios here where\n",
    "# lass regression helps in fitting a better model\n"
   ]
  },
  {
   "cell_type": "code",
   "execution_count": null,
   "metadata": {
    "collapsed": true
   },
   "outputs": [],
   "source": []
  }
 ],
 "metadata": {
  "kernelspec": {
   "display_name": "Python 3",
   "language": "python",
   "name": "python3"
  },
  "language_info": {
   "codemirror_mode": {
    "name": "ipython",
    "version": 3
   },
   "file_extension": ".py",
   "mimetype": "text/x-python",
   "name": "python",
   "nbconvert_exporter": "python",
   "pygments_lexer": "ipython3",
   "version": "3.6.7"
  }
 },
 "nbformat": 4,
 "nbformat_minor": 2
}
